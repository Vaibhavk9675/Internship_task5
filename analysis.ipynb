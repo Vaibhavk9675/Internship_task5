{
 "cells": [
  {
   "cell_type": "code",
   "execution_count": null,
   "id": "85df0738",
   "metadata": {},
   "outputs": [],
   "source": [
    "import pandas as pd"
   ]
  },
  {
   "cell_type": "code",
   "execution_count": 44,
   "id": "a72f8899",
   "metadata": {},
   "outputs": [
    {
     "name": "stdout",
     "output_type": "stream",
     "text": [
      "   Date  Month  Year  Holidays_Count  Days   PM2.5    PM10     NO2    SO2  \\\n",
      "0     1      1  2021               0     5  408.80  442.42  160.61  12.95   \n",
      "1     2      1  2021               0     6  404.04  561.95   52.85   5.18   \n",
      "2     3      1  2021               1     7  225.07  239.04  170.95  10.93   \n",
      "3     4      1  2021               0     1   89.55  132.08  153.98  10.42   \n",
      "4     5      1  2021               0     2   54.06   55.54  122.66   9.70   \n",
      "\n",
      "     CO  Ozone  AQI  \n",
      "0  2.77  43.19  462  \n",
      "1  2.60  16.43  482  \n",
      "2  1.40  44.29  263  \n",
      "3  1.01  49.19  207  \n",
      "4  0.64  48.88  149  \n"
     ]
    }
   ],
   "source": [
    "df = pd.read_csv(\"final_dataset.csv\")\n",
    "print(df.head()) # Displays the first 5 rows"
   ]
  },
  {
   "cell_type": "markdown",
   "id": "a6801145",
   "metadata": {},
   "source": [
    "Cleaning Data:"
   ]
  },
  {
   "cell_type": "code",
   "execution_count": null,
   "id": "83482d1c",
   "metadata": {},
   "outputs": [
    {
     "data": {
      "text/plain": [
       "np.False_"
      ]
     },
     "execution_count": 26,
     "metadata": {},
     "output_type": "execute_result"
    }
   ],
   "source": [
    "df.isnull().values.any()   # True if any null value in DataFrame"
   ]
  },
  {
   "cell_type": "code",
   "execution_count": 46,
   "id": "2237f96e",
   "metadata": {},
   "outputs": [
    {
     "data": {
      "text/plain": [
       "np.int64(1058)"
      ]
     },
     "execution_count": 46,
     "metadata": {},
     "output_type": "execute_result"
    }
   ],
   "source": [
    "df['AQI'].duplicated().sum()"
   ]
  },
  {
   "cell_type": "code",
   "execution_count": null,
   "id": "79ea1e09",
   "metadata": {},
   "outputs": [],
   "source": []
  }
 ],
 "metadata": {
  "kernelspec": {
   "display_name": "Python 3",
   "language": "python",
   "name": "python3"
  },
  "language_info": {
   "codemirror_mode": {
    "name": "ipython",
    "version": 3
   },
   "file_extension": ".py",
   "mimetype": "text/x-python",
   "name": "python",
   "nbconvert_exporter": "python",
   "pygments_lexer": "ipython3",
   "version": "3.13.3"
  }
 },
 "nbformat": 4,
 "nbformat_minor": 5
}
